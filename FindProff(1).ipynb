{
  "nbformat": 4,
  "nbformat_minor": 0,
  "metadata": {
    "colab": {
      "provenance": []
    },
    "kernelspec": {
      "name": "python3",
      "display_name": "Python 3"
    },
    "language_info": {
      "name": "python"
    }
  },
  "cells": [
    {
      "cell_type": "markdown",
      "source": [
        "# **FindProff.**"
      ],
      "metadata": {
        "id": "JZM4g2WEM8NU"
      }
    },
    {
      "cell_type": "markdown",
      "source": [
        "The script begins by accepting keywords and a university URL, such as the faculty directory URL of Stevensons Institue of Technology or the University of Syracuse, as inputs. These keywords might include terms like \"water quality,\" \"machine learning,\" \"remote sensing,\" and \"hydrology.\" These will based on your research interests.\n",
        "\n",
        "Next, it retrieves all URLs linked from the primary URL and converts them into a structured soup object using BeautifulSoup. It then searches this object for occurrences of the specified keywords. If any of these keywords are found, the script extracts and returns the URL of the page where the keyword appears, along with the professor's name and email address associated with that page."
      ],
      "metadata": {
        "id": "EEfCnDqVM8ua"
      }
    },
    {
      "cell_type": "code",
      "source": [
        "from google.colab import drive\n",
        "drive.mount('/content/drive')"
      ],
      "metadata": {
        "colab": {
          "base_uri": "https://localhost:8080/"
        },
        "id": "7oq4yU3vT3U3",
        "outputId": "4ce00ea0-bf07-4bc5-e77e-667c69884ac0"
      },
      "execution_count": null,
      "outputs": [
        {
          "output_type": "stream",
          "name": "stdout",
          "text": [
            "Mounted at /content/drive\n"
          ]
        }
      ]
    },
    {
      "cell_type": "code",
      "execution_count": 1,
      "metadata": {
        "colab": {
          "base_uri": "https://localhost:8080/"
        },
        "id": "EvziSL99ztlv",
        "outputId": "af4ab034-6a8d-4734-e90b-5bcca7347dd4"
      },
      "outputs": [
        {
          "output_type": "stream",
          "name": "stdout",
          "text": [
            "Requirement already satisfied: requests in /usr/local/lib/python3.11/dist-packages (2.32.3)\n",
            "Requirement already satisfied: beautifulsoup4 in /usr/local/lib/python3.11/dist-packages (4.12.3)\n",
            "Requirement already satisfied: charset-normalizer<4,>=2 in /usr/local/lib/python3.11/dist-packages (from requests) (3.4.1)\n",
            "Requirement already satisfied: idna<4,>=2.5 in /usr/local/lib/python3.11/dist-packages (from requests) (3.10)\n",
            "Requirement already satisfied: urllib3<3,>=1.21.1 in /usr/local/lib/python3.11/dist-packages (from requests) (2.3.0)\n",
            "Requirement already satisfied: certifi>=2017.4.17 in /usr/local/lib/python3.11/dist-packages (from requests) (2024.12.14)\n",
            "Requirement already satisfied: soupsieve>1.2 in /usr/local/lib/python3.11/dist-packages (from beautifulsoup4) (2.6)\n"
          ]
        }
      ],
      "source": [
        "pip install requests beautifulsoup4\n"
      ]
    },
    {
      "cell_type": "code",
      "source": [
        "# Add the directory to Python's module search path\n",
        "import sys\n",
        "sys.path.append(\"/content/drive/MyDrive/Projects/Findyourprofessor/\")\n",
        "\n",
        "from FindYourProfessor import FindYourProfessor\n",
        "\n",
        "# Define the primary URL and keywords\n",
        "primary_url = 'https://www.stevens.edu/school-engineering-science/departments/civil-environmental-ocean-engineering/faculty'\n",
        "keywords = ['water quality', 'machine learning', 'remote sensing', 'hydrology']\n",
        "\n",
        "# Extract URLs\n",
        "urls = FindYourProfessor.extract_urls(primary_url)\n",
        "\n",
        "# Scrape URLs\n",
        "FindYourProfessor.scrape_urls(urls, keywords)\n"
      ],
      "metadata": {
        "colab": {
          "base_uri": "https://localhost:8080/"
        },
        "id": "bfMXeUZiUFfP",
        "outputId": "6d523f16-5ef8-496a-c5e2-abd76df683af"
      },
      "execution_count": 9,
      "outputs": [
        {
          "output_type": "stream",
          "name": "stdout",
          "text": [
            "URL: https://www.stevens.edu/academics/academics-at-stevens\n",
            "Title: Academics - Stevens Institute of Technology  | Stevens Institute of Technology\n",
            "Keywords found: machine learning\n",
            "Emails found: \n",
            "---------------------------------------------\n",
            "URL: https://www.stevens.edu/academics/undergraduate-study/success-the-stevens-core-curriculum\n",
            "Title: SUCCESS – The Stevens Core Curriculum | Stevens Institute of Technology\n",
            "Keywords found: machine learning\n",
            "Emails found: \n",
            "---------------------------------------------\n",
            "URL: https://www.stevens.edu/academics/graduate-study\n",
            "Title: Graduate Study | Stevens Institute of Technology | Stevens Institute of Technology\n",
            "Keywords found: machine learning\n",
            "Emails found: \n",
            "---------------------------------------------\n",
            "URL: https://www.stevens.edu/profile/ybao3\n",
            "Title: Yi Bao | Stevens Institute of Technology\n",
            "Keywords found: machine learning\n",
            "Emails found: ybao3@stevens.edu\n",
            "---------------------------------------------\n",
            "URL: https://www.stevens.edu/profile/cchen6\n",
            "Title: Cheng Chen | Stevens Institute of Technology\n",
            "Keywords found: machine learning\n",
            "Emails found: cchen6@stevens.edu\n",
            "---------------------------------------------\n",
            "URL: https://www.stevens.edu/profile/ddonskoy\n",
            "Title: Dimitri Donskoy | Stevens Institute of Technology\n",
            "Keywords found: machine learning, remote sensing\n",
            "Emails found: ddonskoy@stevens.edu\n",
            "---------------------------------------------\n",
            "URL: https://www.stevens.edu/profile/sjagupil\n",
            "Title: Sarath Chandra Kumar Jagupilla | Stevens Institute of Technology\n",
            "Keywords found: water quality, machine learning, hydrology\n",
            "Emails found: sjagupil@stevens.edu\n",
            "---------------------------------------------\n",
            "URL: https://www.stevens.edu/profile/kliu24\n",
            "Title: Kaijian Liu | Stevens Institute of Technology\n",
            "Keywords found: machine learning\n",
            "Emails found: kliu24@stevens.edu\n",
            "---------------------------------------------\n",
            "URL: https://www.stevens.edu/profile/wmeng3\n",
            "Title: Weina Meng | Stevens Institute of Technology\n",
            "Keywords found: machine learning\n",
            "Emails found: wmeng3@stevens.edu\n",
            "---------------------------------------------\n",
            "URL: https://www.stevens.edu/profile/dsarkar\n",
            "Title: Dibs Sarkar | Stevens Institute of Technology\n",
            "Keywords found: water quality\n",
            "Emails found: dsarkar@stevens.edu\n",
            "---------------------------------------------\n",
            "URL: https://www.stevens.edu/profile/mtemimi\n",
            "Title: Marouane Temimi | Stevens Institute of Technology\n",
            "Keywords found: machine learning, remote sensing, hydrology\n",
            "Emails found: mtemimi@stevens.edu\n",
            "---------------------------------------------\n",
            "URL: https://www.stevens.edu/profile/dvaccari\n",
            "Title: David Vaccari | Stevens Institute of Technology\n",
            "Keywords found: water quality, remote sensing\n",
            "Emails found: dvaccari@stevens.edu\n",
            "---------------------------------------------\n"
          ]
        }
      ]
    },
    {
      "cell_type": "code",
      "source": [],
      "metadata": {
        "id": "E-ASCkTKBYgc"
      },
      "execution_count": null,
      "outputs": []
    }
  ]
}